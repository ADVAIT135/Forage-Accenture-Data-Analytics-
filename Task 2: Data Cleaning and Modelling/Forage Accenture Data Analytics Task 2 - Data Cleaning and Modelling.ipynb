{
 "cells": [
  {
   "cell_type": "markdown",
   "id": "e35090b7",
   "metadata": {},
   "source": [
    "## <u>Name </u> : ADVAIT GURUNATH CHAVAN\n",
    "## <u>Contact Number </u> : +91 70214 55852\n",
    "## <u>Mail ID </u> : advaitchavan135@gmail.com \n",
    "## <u>Forage Accenture Data Analytics Task 2 </u> : Data Cleaning and Modelling"
   ]
  },
  {
   "cell_type": "markdown",
   "id": "3eb38081",
   "metadata": {},
   "source": [
    "### A. Importing the necessary modules"
   ]
  },
  {
   "cell_type": "code",
   "execution_count": 1,
   "id": "e0760658",
   "metadata": {},
   "outputs": [],
   "source": [
    "import pandas as pd\n",
    "import matplotlib.pyplot as plt\n",
    "import seaborn as sns\n",
    "import plotly.express as px\n",
    "import plotly.graph_objects as go\n",
    "import plotly.io as plio\n",
    "plio.templates\n",
    "import numpy as np"
   ]
  },
  {
   "cell_type": "markdown",
   "id": "7537e8e4",
   "metadata": {},
   "source": [
    "### B. Reading the files"
   ]
  },
  {
   "cell_type": "code",
   "execution_count": 2,
   "id": "eaefa55f",
   "metadata": {},
   "outputs": [],
   "source": [
    "content = pd.read_csv('Content.csv')\n",
    "reaction = pd.read_csv('Reactions.csv')\n",
    "reaction_type = pd.read_csv('ReactionTypes.csv')"
   ]
  },
  {
   "cell_type": "code",
   "execution_count": 3,
   "id": "b2589014",
   "metadata": {},
   "outputs": [
    {
     "name": "stdout",
     "output_type": "stream",
     "text": [
      "<class 'pandas.core.frame.DataFrame'>\n",
      "RangeIndex: 1000 entries, 0 to 999\n",
      "Data columns (total 6 columns):\n",
      " #   Column      Non-Null Count  Dtype \n",
      "---  ------      --------------  ----- \n",
      " 0   Unnamed: 0  1000 non-null   int64 \n",
      " 1   Content ID  1000 non-null   object\n",
      " 2   User ID     1000 non-null   object\n",
      " 3   Type        1000 non-null   object\n",
      " 4   Category    1000 non-null   object\n",
      " 5   URL         801 non-null    object\n",
      "dtypes: int64(1), object(5)\n",
      "memory usage: 47.0+ KB\n",
      "<class 'pandas.core.frame.DataFrame'>\n",
      "RangeIndex: 25553 entries, 0 to 25552\n",
      "Data columns (total 5 columns):\n",
      " #   Column      Non-Null Count  Dtype \n",
      "---  ------      --------------  ----- \n",
      " 0   Unnamed: 0  25553 non-null  int64 \n",
      " 1   Content ID  25553 non-null  object\n",
      " 2   User ID     22534 non-null  object\n",
      " 3   Type        24573 non-null  object\n",
      " 4   Datetime    25553 non-null  object\n",
      "dtypes: int64(1), object(4)\n",
      "memory usage: 998.3+ KB\n",
      "<class 'pandas.core.frame.DataFrame'>\n",
      "RangeIndex: 16 entries, 0 to 15\n",
      "Data columns (total 4 columns):\n",
      " #   Column      Non-Null Count  Dtype \n",
      "---  ------      --------------  ----- \n",
      " 0   Unnamed: 0  16 non-null     int64 \n",
      " 1   Type        16 non-null     object\n",
      " 2   Sentiment   16 non-null     object\n",
      " 3   Score       16 non-null     int64 \n",
      "dtypes: int64(2), object(2)\n",
      "memory usage: 640.0+ bytes\n"
     ]
    },
    {
     "data": {
      "text/plain": [
       "(None, None, None)"
      ]
     },
     "execution_count": 3,
     "metadata": {},
     "output_type": "execute_result"
    }
   ],
   "source": [
    "content.info(), reaction.info(), reaction_type.info()"
   ]
  },
  {
   "cell_type": "code",
   "execution_count": 4,
   "id": "f24b5c0d",
   "metadata": {},
   "outputs": [
    {
     "data": {
      "text/html": [
       "<div>\n",
       "<style scoped>\n",
       "    .dataframe tbody tr th:only-of-type {\n",
       "        vertical-align: middle;\n",
       "    }\n",
       "\n",
       "    .dataframe tbody tr th {\n",
       "        vertical-align: top;\n",
       "    }\n",
       "\n",
       "    .dataframe thead th {\n",
       "        text-align: right;\n",
       "    }\n",
       "</style>\n",
       "<table border=\"1\" class=\"dataframe\">\n",
       "  <thead>\n",
       "    <tr style=\"text-align: right;\">\n",
       "      <th></th>\n",
       "      <th>Unnamed: 0</th>\n",
       "      <th>Content ID</th>\n",
       "      <th>User ID</th>\n",
       "      <th>Type</th>\n",
       "      <th>Category</th>\n",
       "      <th>URL</th>\n",
       "    </tr>\n",
       "  </thead>\n",
       "  <tbody>\n",
       "    <tr>\n",
       "      <th>0</th>\n",
       "      <td>0</td>\n",
       "      <td>97522e57-d9ab-4bd6-97bf-c24d952602d2</td>\n",
       "      <td>8d3cd87d-8a31-4935-9a4f-b319bfe05f31</td>\n",
       "      <td>photo</td>\n",
       "      <td>Studying</td>\n",
       "      <td>https://socialbuzz.cdn.com/content/storage/975...</td>\n",
       "    </tr>\n",
       "    <tr>\n",
       "      <th>1</th>\n",
       "      <td>1</td>\n",
       "      <td>9f737e0a-3cdd-4d29-9d24-753f4e3be810</td>\n",
       "      <td>beb1f34e-7870-46d6-9fc7-2e12eb83ce43</td>\n",
       "      <td>photo</td>\n",
       "      <td>healthy eating</td>\n",
       "      <td>https://socialbuzz.cdn.com/content/storage/9f7...</td>\n",
       "    </tr>\n",
       "    <tr>\n",
       "      <th>2</th>\n",
       "      <td>2</td>\n",
       "      <td>230c4e4d-70c3-461d-b42c-ec09396efb3f</td>\n",
       "      <td>a5c65404-5894-4b87-82f2-d787cbee86b4</td>\n",
       "      <td>photo</td>\n",
       "      <td>healthy eating</td>\n",
       "      <td>https://socialbuzz.cdn.com/content/storage/230...</td>\n",
       "    </tr>\n",
       "    <tr>\n",
       "      <th>3</th>\n",
       "      <td>3</td>\n",
       "      <td>356fff80-da4d-4785-9f43-bc1261031dc6</td>\n",
       "      <td>9fb4ce88-fac1-406c-8544-1a899cee7aaf</td>\n",
       "      <td>photo</td>\n",
       "      <td>technology</td>\n",
       "      <td>https://socialbuzz.cdn.com/content/storage/356...</td>\n",
       "    </tr>\n",
       "    <tr>\n",
       "      <th>4</th>\n",
       "      <td>4</td>\n",
       "      <td>01ab84dd-6364-4236-abbb-3f237db77180</td>\n",
       "      <td>e206e31b-5f85-4964-b6ea-d7ee5324def1</td>\n",
       "      <td>video</td>\n",
       "      <td>food</td>\n",
       "      <td>https://socialbuzz.cdn.com/content/storage/01a...</td>\n",
       "    </tr>\n",
       "  </tbody>\n",
       "</table>\n",
       "</div>"
      ],
      "text/plain": [
       "   Unnamed: 0                            Content ID  \\\n",
       "0           0  97522e57-d9ab-4bd6-97bf-c24d952602d2   \n",
       "1           1  9f737e0a-3cdd-4d29-9d24-753f4e3be810   \n",
       "2           2  230c4e4d-70c3-461d-b42c-ec09396efb3f   \n",
       "3           3  356fff80-da4d-4785-9f43-bc1261031dc6   \n",
       "4           4  01ab84dd-6364-4236-abbb-3f237db77180   \n",
       "\n",
       "                                User ID   Type        Category  \\\n",
       "0  8d3cd87d-8a31-4935-9a4f-b319bfe05f31  photo        Studying   \n",
       "1  beb1f34e-7870-46d6-9fc7-2e12eb83ce43  photo  healthy eating   \n",
       "2  a5c65404-5894-4b87-82f2-d787cbee86b4  photo  healthy eating   \n",
       "3  9fb4ce88-fac1-406c-8544-1a899cee7aaf  photo      technology   \n",
       "4  e206e31b-5f85-4964-b6ea-d7ee5324def1  video            food   \n",
       "\n",
       "                                                 URL  \n",
       "0  https://socialbuzz.cdn.com/content/storage/975...  \n",
       "1  https://socialbuzz.cdn.com/content/storage/9f7...  \n",
       "2  https://socialbuzz.cdn.com/content/storage/230...  \n",
       "3  https://socialbuzz.cdn.com/content/storage/356...  \n",
       "4  https://socialbuzz.cdn.com/content/storage/01a...  "
      ]
     },
     "execution_count": 4,
     "metadata": {},
     "output_type": "execute_result"
    }
   ],
   "source": [
    "content.head()"
   ]
  },
  {
   "cell_type": "code",
   "execution_count": 5,
   "id": "2c9e0c33",
   "metadata": {},
   "outputs": [
    {
     "data": {
      "text/html": [
       "<div>\n",
       "<style scoped>\n",
       "    .dataframe tbody tr th:only-of-type {\n",
       "        vertical-align: middle;\n",
       "    }\n",
       "\n",
       "    .dataframe tbody tr th {\n",
       "        vertical-align: top;\n",
       "    }\n",
       "\n",
       "    .dataframe thead th {\n",
       "        text-align: right;\n",
       "    }\n",
       "</style>\n",
       "<table border=\"1\" class=\"dataframe\">\n",
       "  <thead>\n",
       "    <tr style=\"text-align: right;\">\n",
       "      <th></th>\n",
       "      <th>Unnamed: 0</th>\n",
       "      <th>Content ID</th>\n",
       "      <th>User ID</th>\n",
       "      <th>Type</th>\n",
       "      <th>Datetime</th>\n",
       "    </tr>\n",
       "  </thead>\n",
       "  <tbody>\n",
       "    <tr>\n",
       "      <th>0</th>\n",
       "      <td>0</td>\n",
       "      <td>97522e57-d9ab-4bd6-97bf-c24d952602d2</td>\n",
       "      <td>NaN</td>\n",
       "      <td>NaN</td>\n",
       "      <td>2021-04-22 15:17:15</td>\n",
       "    </tr>\n",
       "    <tr>\n",
       "      <th>1</th>\n",
       "      <td>1</td>\n",
       "      <td>97522e57-d9ab-4bd6-97bf-c24d952602d2</td>\n",
       "      <td>5d454588-283d-459d-915d-c48a2cb4c27f</td>\n",
       "      <td>disgust</td>\n",
       "      <td>2020-11-07 09:43:50</td>\n",
       "    </tr>\n",
       "    <tr>\n",
       "      <th>2</th>\n",
       "      <td>2</td>\n",
       "      <td>97522e57-d9ab-4bd6-97bf-c24d952602d2</td>\n",
       "      <td>92b87fa5-f271-43e0-af66-84fac21052e6</td>\n",
       "      <td>dislike</td>\n",
       "      <td>2021-06-17 12:22:51</td>\n",
       "    </tr>\n",
       "    <tr>\n",
       "      <th>3</th>\n",
       "      <td>3</td>\n",
       "      <td>97522e57-d9ab-4bd6-97bf-c24d952602d2</td>\n",
       "      <td>163daa38-8b77-48c9-9af6-37a6c1447ac2</td>\n",
       "      <td>scared</td>\n",
       "      <td>2021-04-18 05:13:58</td>\n",
       "    </tr>\n",
       "    <tr>\n",
       "      <th>4</th>\n",
       "      <td>4</td>\n",
       "      <td>97522e57-d9ab-4bd6-97bf-c24d952602d2</td>\n",
       "      <td>34e8add9-0206-47fd-a501-037b994650a2</td>\n",
       "      <td>disgust</td>\n",
       "      <td>2021-01-06 19:13:01</td>\n",
       "    </tr>\n",
       "  </tbody>\n",
       "</table>\n",
       "</div>"
      ],
      "text/plain": [
       "   Unnamed: 0                            Content ID  \\\n",
       "0           0  97522e57-d9ab-4bd6-97bf-c24d952602d2   \n",
       "1           1  97522e57-d9ab-4bd6-97bf-c24d952602d2   \n",
       "2           2  97522e57-d9ab-4bd6-97bf-c24d952602d2   \n",
       "3           3  97522e57-d9ab-4bd6-97bf-c24d952602d2   \n",
       "4           4  97522e57-d9ab-4bd6-97bf-c24d952602d2   \n",
       "\n",
       "                                User ID     Type             Datetime  \n",
       "0                                   NaN      NaN  2021-04-22 15:17:15  \n",
       "1  5d454588-283d-459d-915d-c48a2cb4c27f  disgust  2020-11-07 09:43:50  \n",
       "2  92b87fa5-f271-43e0-af66-84fac21052e6  dislike  2021-06-17 12:22:51  \n",
       "3  163daa38-8b77-48c9-9af6-37a6c1447ac2   scared  2021-04-18 05:13:58  \n",
       "4  34e8add9-0206-47fd-a501-037b994650a2  disgust  2021-01-06 19:13:01  "
      ]
     },
     "execution_count": 5,
     "metadata": {},
     "output_type": "execute_result"
    }
   ],
   "source": [
    "reaction.head()"
   ]
  },
  {
   "cell_type": "code",
   "execution_count": 6,
   "id": "15fe4d12",
   "metadata": {},
   "outputs": [
    {
     "data": {
      "text/html": [
       "<div>\n",
       "<style scoped>\n",
       "    .dataframe tbody tr th:only-of-type {\n",
       "        vertical-align: middle;\n",
       "    }\n",
       "\n",
       "    .dataframe tbody tr th {\n",
       "        vertical-align: top;\n",
       "    }\n",
       "\n",
       "    .dataframe thead th {\n",
       "        text-align: right;\n",
       "    }\n",
       "</style>\n",
       "<table border=\"1\" class=\"dataframe\">\n",
       "  <thead>\n",
       "    <tr style=\"text-align: right;\">\n",
       "      <th></th>\n",
       "      <th>Unnamed: 0</th>\n",
       "      <th>Type</th>\n",
       "      <th>Sentiment</th>\n",
       "      <th>Score</th>\n",
       "    </tr>\n",
       "  </thead>\n",
       "  <tbody>\n",
       "    <tr>\n",
       "      <th>0</th>\n",
       "      <td>0</td>\n",
       "      <td>heart</td>\n",
       "      <td>positive</td>\n",
       "      <td>60</td>\n",
       "    </tr>\n",
       "    <tr>\n",
       "      <th>1</th>\n",
       "      <td>1</td>\n",
       "      <td>want</td>\n",
       "      <td>positive</td>\n",
       "      <td>70</td>\n",
       "    </tr>\n",
       "    <tr>\n",
       "      <th>2</th>\n",
       "      <td>2</td>\n",
       "      <td>disgust</td>\n",
       "      <td>negative</td>\n",
       "      <td>0</td>\n",
       "    </tr>\n",
       "    <tr>\n",
       "      <th>3</th>\n",
       "      <td>3</td>\n",
       "      <td>hate</td>\n",
       "      <td>negative</td>\n",
       "      <td>5</td>\n",
       "    </tr>\n",
       "    <tr>\n",
       "      <th>4</th>\n",
       "      <td>4</td>\n",
       "      <td>interested</td>\n",
       "      <td>positive</td>\n",
       "      <td>30</td>\n",
       "    </tr>\n",
       "    <tr>\n",
       "      <th>5</th>\n",
       "      <td>5</td>\n",
       "      <td>indifferent</td>\n",
       "      <td>neutral</td>\n",
       "      <td>20</td>\n",
       "    </tr>\n",
       "    <tr>\n",
       "      <th>6</th>\n",
       "      <td>6</td>\n",
       "      <td>love</td>\n",
       "      <td>positive</td>\n",
       "      <td>65</td>\n",
       "    </tr>\n",
       "    <tr>\n",
       "      <th>7</th>\n",
       "      <td>7</td>\n",
       "      <td>super love</td>\n",
       "      <td>positive</td>\n",
       "      <td>75</td>\n",
       "    </tr>\n",
       "    <tr>\n",
       "      <th>8</th>\n",
       "      <td>8</td>\n",
       "      <td>cherish</td>\n",
       "      <td>positive</td>\n",
       "      <td>70</td>\n",
       "    </tr>\n",
       "    <tr>\n",
       "      <th>9</th>\n",
       "      <td>9</td>\n",
       "      <td>adore</td>\n",
       "      <td>positive</td>\n",
       "      <td>72</td>\n",
       "    </tr>\n",
       "    <tr>\n",
       "      <th>10</th>\n",
       "      <td>10</td>\n",
       "      <td>like</td>\n",
       "      <td>positive</td>\n",
       "      <td>50</td>\n",
       "    </tr>\n",
       "    <tr>\n",
       "      <th>11</th>\n",
       "      <td>11</td>\n",
       "      <td>dislike</td>\n",
       "      <td>negative</td>\n",
       "      <td>10</td>\n",
       "    </tr>\n",
       "    <tr>\n",
       "      <th>12</th>\n",
       "      <td>12</td>\n",
       "      <td>intrigued</td>\n",
       "      <td>positive</td>\n",
       "      <td>45</td>\n",
       "    </tr>\n",
       "    <tr>\n",
       "      <th>13</th>\n",
       "      <td>13</td>\n",
       "      <td>peeking</td>\n",
       "      <td>neutral</td>\n",
       "      <td>35</td>\n",
       "    </tr>\n",
       "    <tr>\n",
       "      <th>14</th>\n",
       "      <td>14</td>\n",
       "      <td>scared</td>\n",
       "      <td>negative</td>\n",
       "      <td>15</td>\n",
       "    </tr>\n",
       "    <tr>\n",
       "      <th>15</th>\n",
       "      <td>15</td>\n",
       "      <td>worried</td>\n",
       "      <td>negative</td>\n",
       "      <td>12</td>\n",
       "    </tr>\n",
       "  </tbody>\n",
       "</table>\n",
       "</div>"
      ],
      "text/plain": [
       "    Unnamed: 0         Type Sentiment  Score\n",
       "0            0        heart  positive     60\n",
       "1            1         want  positive     70\n",
       "2            2      disgust  negative      0\n",
       "3            3         hate  negative      5\n",
       "4            4   interested  positive     30\n",
       "5            5  indifferent   neutral     20\n",
       "6            6         love  positive     65\n",
       "7            7   super love  positive     75\n",
       "8            8      cherish  positive     70\n",
       "9            9        adore  positive     72\n",
       "10          10         like  positive     50\n",
       "11          11      dislike  negative     10\n",
       "12          12    intrigued  positive     45\n",
       "13          13      peeking   neutral     35\n",
       "14          14       scared  negative     15\n",
       "15          15      worried  negative     12"
      ]
     },
     "execution_count": 6,
     "metadata": {},
     "output_type": "execute_result"
    }
   ],
   "source": [
    "reaction_type"
   ]
  },
  {
   "cell_type": "markdown",
   "id": "b4910e94",
   "metadata": {},
   "source": [
    "### C. Dropping the 'Unnamed : 0' column from each of the dataset"
   ]
  },
  {
   "cell_type": "code",
   "execution_count": 7,
   "id": "ce63847c",
   "metadata": {},
   "outputs": [],
   "source": [
    "column_to_drop = 'Unnamed: 0'\n",
    "content = content.drop(column_to_drop, axis = 1)\n",
    "reaction = reaction.drop(column_to_drop, axis = 1)\n",
    "reaction_type = reaction_type.drop(column_to_drop, axis = 1)"
   ]
  },
  {
   "cell_type": "markdown",
   "id": "af83c2d3",
   "metadata": {},
   "source": [
    "### D. Dropping the 'User ID' column from content and reaction datasets cause we only need data related to reactions and content"
   ]
  },
  {
   "cell_type": "code",
   "execution_count": 8,
   "id": "debb4aa6",
   "metadata": {},
   "outputs": [],
   "source": [
    "column_to_drop = 'User ID'\n",
    "content = content.drop(column_to_drop, axis = 1)\n",
    "reaction = reaction.drop(column_to_drop, axis = 1)"
   ]
  },
  {
   "cell_type": "code",
   "execution_count": 9,
   "id": "b5df99a6",
   "metadata": {},
   "outputs": [],
   "source": [
    "column_to_drop = 'URL'\n",
    "content = content.drop(column_to_drop, axis = 1)"
   ]
  },
  {
   "cell_type": "code",
   "execution_count": 10,
   "id": "ea0771e8",
   "metadata": {},
   "outputs": [],
   "source": [
    "reaction.rename(columns={'Type': 'reaction_type'}, inplace=True)"
   ]
  },
  {
   "cell_type": "code",
   "execution_count": 17,
   "id": "bffa155d",
   "metadata": {},
   "outputs": [],
   "source": [
    "reaction_type.rename(columns={'Type': 'reaction_type'}, inplace=True)"
   ]
  },
  {
   "cell_type": "code",
   "execution_count": 11,
   "id": "c9a47c03",
   "metadata": {},
   "outputs": [],
   "source": [
    "content.rename(columns={'Type': 'content_type'}, inplace=True)"
   ]
  },
  {
   "cell_type": "markdown",
   "id": "66756b1d",
   "metadata": {},
   "source": [
    "### E. Removing the rows from all datasets that consists of null values or blank spaces"
   ]
  },
  {
   "cell_type": "code",
   "execution_count": 12,
   "id": "f5e2a46f",
   "metadata": {},
   "outputs": [],
   "source": [
    "content = content.dropna(how='any')\n",
    "reaction = reaction.dropna(how='any')\n",
    "reaction_type = reaction_type.dropna(how='any')"
   ]
  },
  {
   "cell_type": "code",
   "execution_count": 13,
   "id": "73df17b9",
   "metadata": {},
   "outputs": [
    {
     "name": "stdout",
     "output_type": "stream",
     "text": [
      "<class 'pandas.core.frame.DataFrame'>\n",
      "RangeIndex: 1000 entries, 0 to 999\n",
      "Data columns (total 3 columns):\n",
      " #   Column        Non-Null Count  Dtype \n",
      "---  ------        --------------  ----- \n",
      " 0   Content ID    1000 non-null   object\n",
      " 1   content_type  1000 non-null   object\n",
      " 2   Category      1000 non-null   object\n",
      "dtypes: object(3)\n",
      "memory usage: 23.6+ KB\n"
     ]
    }
   ],
   "source": [
    "content.info()"
   ]
  },
  {
   "cell_type": "code",
   "execution_count": 14,
   "id": "d895ad6d",
   "metadata": {},
   "outputs": [
    {
     "name": "stdout",
     "output_type": "stream",
     "text": [
      "<class 'pandas.core.frame.DataFrame'>\n",
      "Int64Index: 24573 entries, 1 to 25552\n",
      "Data columns (total 3 columns):\n",
      " #   Column         Non-Null Count  Dtype \n",
      "---  ------         --------------  ----- \n",
      " 0   Content ID     24573 non-null  object\n",
      " 1   reaction_type  24573 non-null  object\n",
      " 2   Datetime       24573 non-null  object\n",
      "dtypes: object(3)\n",
      "memory usage: 767.9+ KB\n"
     ]
    }
   ],
   "source": [
    "reaction.info()"
   ]
  },
  {
   "cell_type": "code",
   "execution_count": 15,
   "id": "a0ea2ef0",
   "metadata": {},
   "outputs": [
    {
     "name": "stdout",
     "output_type": "stream",
     "text": [
      "<class 'pandas.core.frame.DataFrame'>\n",
      "RangeIndex: 16 entries, 0 to 15\n",
      "Data columns (total 3 columns):\n",
      " #   Column     Non-Null Count  Dtype \n",
      "---  ------     --------------  ----- \n",
      " 0   Type       16 non-null     object\n",
      " 1   Sentiment  16 non-null     object\n",
      " 2   Score      16 non-null     int64 \n",
      "dtypes: int64(1), object(2)\n",
      "memory usage: 512.0+ bytes\n"
     ]
    }
   ],
   "source": [
    "reaction_type.info()"
   ]
  },
  {
   "cell_type": "markdown",
   "id": "2f52807d",
   "metadata": {},
   "source": [
    "### F. Merging datasets using the inner join"
   ]
  },
  {
   "cell_type": "code",
   "execution_count": 18,
   "id": "d38696f2",
   "metadata": {},
   "outputs": [],
   "source": [
    "reaction_merged = pd.merge(reaction, reaction_type, on='reaction_type', how='inner')"
   ]
  },
  {
   "cell_type": "code",
   "execution_count": 19,
   "id": "e61b7763",
   "metadata": {},
   "outputs": [],
   "source": [
    "content_reaction_merged = pd.merge(content, reaction_merged, on='Content ID', how='inner')"
   ]
  },
  {
   "cell_type": "code",
   "execution_count": 20,
   "id": "7e73e7d2",
   "metadata": {},
   "outputs": [
    {
     "name": "stdout",
     "output_type": "stream",
     "text": [
      "<class 'pandas.core.frame.DataFrame'>\n",
      "Int64Index: 24573 entries, 0 to 24572\n",
      "Data columns (total 7 columns):\n",
      " #   Column         Non-Null Count  Dtype \n",
      "---  ------         --------------  ----- \n",
      " 0   Content ID     24573 non-null  object\n",
      " 1   content_type   24573 non-null  object\n",
      " 2   Category       24573 non-null  object\n",
      " 3   reaction_type  24573 non-null  object\n",
      " 4   Datetime       24573 non-null  object\n",
      " 5   Sentiment      24573 non-null  object\n",
      " 6   Score          24573 non-null  int64 \n",
      "dtypes: int64(1), object(6)\n",
      "memory usage: 1.5+ MB\n"
     ]
    }
   ],
   "source": [
    "content_reaction_merged.info()"
   ]
  },
  {
   "cell_type": "code",
   "execution_count": 21,
   "id": "ccba9348",
   "metadata": {},
   "outputs": [
    {
     "data": {
      "text/html": [
       "<div>\n",
       "<style scoped>\n",
       "    .dataframe tbody tr th:only-of-type {\n",
       "        vertical-align: middle;\n",
       "    }\n",
       "\n",
       "    .dataframe tbody tr th {\n",
       "        vertical-align: top;\n",
       "    }\n",
       "\n",
       "    .dataframe thead th {\n",
       "        text-align: right;\n",
       "    }\n",
       "</style>\n",
       "<table border=\"1\" class=\"dataframe\">\n",
       "  <thead>\n",
       "    <tr style=\"text-align: right;\">\n",
       "      <th></th>\n",
       "      <th>Content ID</th>\n",
       "      <th>content_type</th>\n",
       "      <th>Category</th>\n",
       "      <th>reaction_type</th>\n",
       "      <th>Datetime</th>\n",
       "      <th>Sentiment</th>\n",
       "      <th>Score</th>\n",
       "    </tr>\n",
       "  </thead>\n",
       "  <tbody>\n",
       "    <tr>\n",
       "      <th>0</th>\n",
       "      <td>97522e57-d9ab-4bd6-97bf-c24d952602d2</td>\n",
       "      <td>photo</td>\n",
       "      <td>Studying</td>\n",
       "      <td>disgust</td>\n",
       "      <td>2020-11-07 09:43:50</td>\n",
       "      <td>negative</td>\n",
       "      <td>0</td>\n",
       "    </tr>\n",
       "    <tr>\n",
       "      <th>1</th>\n",
       "      <td>97522e57-d9ab-4bd6-97bf-c24d952602d2</td>\n",
       "      <td>photo</td>\n",
       "      <td>Studying</td>\n",
       "      <td>disgust</td>\n",
       "      <td>2021-01-06 19:13:01</td>\n",
       "      <td>negative</td>\n",
       "      <td>0</td>\n",
       "    </tr>\n",
       "    <tr>\n",
       "      <th>2</th>\n",
       "      <td>97522e57-d9ab-4bd6-97bf-c24d952602d2</td>\n",
       "      <td>photo</td>\n",
       "      <td>Studying</td>\n",
       "      <td>disgust</td>\n",
       "      <td>2021-04-09 02:46:20</td>\n",
       "      <td>negative</td>\n",
       "      <td>0</td>\n",
       "    </tr>\n",
       "    <tr>\n",
       "      <th>3</th>\n",
       "      <td>97522e57-d9ab-4bd6-97bf-c24d952602d2</td>\n",
       "      <td>photo</td>\n",
       "      <td>Studying</td>\n",
       "      <td>dislike</td>\n",
       "      <td>2021-06-17 12:22:51</td>\n",
       "      <td>negative</td>\n",
       "      <td>10</td>\n",
       "    </tr>\n",
       "    <tr>\n",
       "      <th>4</th>\n",
       "      <td>97522e57-d9ab-4bd6-97bf-c24d952602d2</td>\n",
       "      <td>photo</td>\n",
       "      <td>Studying</td>\n",
       "      <td>dislike</td>\n",
       "      <td>2020-11-09 02:49:59</td>\n",
       "      <td>negative</td>\n",
       "      <td>10</td>\n",
       "    </tr>\n",
       "  </tbody>\n",
       "</table>\n",
       "</div>"
      ],
      "text/plain": [
       "                             Content ID content_type  Category reaction_type  \\\n",
       "0  97522e57-d9ab-4bd6-97bf-c24d952602d2        photo  Studying       disgust   \n",
       "1  97522e57-d9ab-4bd6-97bf-c24d952602d2        photo  Studying       disgust   \n",
       "2  97522e57-d9ab-4bd6-97bf-c24d952602d2        photo  Studying       disgust   \n",
       "3  97522e57-d9ab-4bd6-97bf-c24d952602d2        photo  Studying       dislike   \n",
       "4  97522e57-d9ab-4bd6-97bf-c24d952602d2        photo  Studying       dislike   \n",
       "\n",
       "              Datetime Sentiment  Score  \n",
       "0  2020-11-07 09:43:50  negative      0  \n",
       "1  2021-01-06 19:13:01  negative      0  \n",
       "2  2021-04-09 02:46:20  negative      0  \n",
       "3  2021-06-17 12:22:51  negative     10  \n",
       "4  2020-11-09 02:49:59  negative     10  "
      ]
     },
     "execution_count": 21,
     "metadata": {},
     "output_type": "execute_result"
    }
   ],
   "source": [
    "content_reaction_merged.head()"
   ]
  },
  {
   "cell_type": "code",
   "execution_count": 22,
   "id": "7558bc3b",
   "metadata": {},
   "outputs": [
    {
     "data": {
      "text/plain": [
       "photo    6589\n",
       "video    6245\n",
       "GIF      6079\n",
       "audio    5660\n",
       "Name: content_type, dtype: int64"
      ]
     },
     "execution_count": 22,
     "metadata": {},
     "output_type": "execute_result"
    }
   ],
   "source": [
    "content_reaction_merged.content_type.value_counts()"
   ]
  },
  {
   "cell_type": "code",
   "execution_count": 23,
   "id": "0c955b05",
   "metadata": {},
   "outputs": [
    {
     "data": {
      "text/plain": [
       "heart          1622\n",
       "scared         1572\n",
       "peeking        1559\n",
       "hate           1552\n",
       "interested     1549\n",
       "dislike        1548\n",
       "adore          1548\n",
       "want           1539\n",
       "love           1534\n",
       "disgust        1526\n",
       "like           1520\n",
       "super love     1519\n",
       "indifferent    1512\n",
       "cherish        1501\n",
       "worried        1497\n",
       "intrigued      1475\n",
       "Name: reaction_type, dtype: int64"
      ]
     },
     "execution_count": 23,
     "metadata": {},
     "output_type": "execute_result"
    }
   ],
   "source": [
    "content_reaction_merged.reaction_type.value_counts()"
   ]
  },
  {
   "cell_type": "code",
   "execution_count": 24,
   "id": "78d581a6",
   "metadata": {},
   "outputs": [
    {
     "data": {
      "text/plain": [
       "animals              1765\n",
       "healthy eating       1711\n",
       "technology           1667\n",
       "science              1662\n",
       "cooking              1640\n",
       "travel               1618\n",
       "food                 1606\n",
       "culture              1586\n",
       "education            1397\n",
       "soccer               1334\n",
       "tennis               1328\n",
       "studying             1303\n",
       "dogs                 1283\n",
       "fitness              1257\n",
       "veganism             1200\n",
       "public speaking      1157\n",
       "Fitness               138\n",
       "Science               116\n",
       "Animals                92\n",
       "Food                   91\n",
       "Soccer                 65\n",
       "\"soccer\"               58\n",
       "\"dogs\"                 55\n",
       "\"culture\"              49\n",
       "Studying               45\n",
       "Culture                41\n",
       "\"animals\"              40\n",
       "\"veganism\"             37\n",
       "Education              36\n",
       "Public Speaking        32\n",
       "Travel                 29\n",
       "\"public speaking\"      28\n",
       "\"technology\"           28\n",
       "\"cooking\"              24\n",
       "\"science\"              18\n",
       "\"studying\"             15\n",
       "Veganism               11\n",
       "Healthy Eating          6\n",
       "Technology              3\n",
       "\"food\"                  2\n",
       "Name: Category, dtype: int64"
      ]
     },
     "execution_count": 24,
     "metadata": {},
     "output_type": "execute_result"
    }
   ],
   "source": [
    "content_reaction_merged.Category.value_counts()"
   ]
  },
  {
   "cell_type": "code",
   "execution_count": 25,
   "id": "04155eac",
   "metadata": {},
   "outputs": [
    {
     "name": "stderr",
     "output_type": "stream",
     "text": [
      "C:\\Users\\Advait\\AppData\\Local\\Temp\\ipykernel_18832\\2940344879.py:1: FutureWarning: The default value of regex will change from True to False in a future version.\n",
      "  content_reaction_merged['Category'] = content_reaction_merged['Category'].str.replace(r'\"([^\"]+)\"', r'\\1')\n"
     ]
    }
   ],
   "source": [
    "content_reaction_merged['Category'] = content_reaction_merged['Category'].str.replace(r'\"([^\"]+)\"', r'\\1')"
   ]
  },
  {
   "cell_type": "code",
   "execution_count": 27,
   "id": "586c9eea",
   "metadata": {},
   "outputs": [
    {
     "name": "stderr",
     "output_type": "stream",
     "text": [
      "C:\\Users\\Advait\\AppData\\Local\\Temp\\ipykernel_18832\\2412389799.py:1: FutureWarning: The default value of regex will change from True to False in a future version.\n",
      "  content_reaction_merged['Category'] = content_reaction_merged['Category'].str.replace(r'\\b([A-Z][a-z]*)\\b', lambda x: x.group().lower())\n"
     ]
    }
   ],
   "source": [
    "content_reaction_merged['Category'] = content_reaction_merged['Category'].str.replace(r'\\b([A-Z][a-z]*)\\b', lambda x: x.group().lower())"
   ]
  },
  {
   "cell_type": "code",
   "execution_count": 28,
   "id": "a3da4fc2",
   "metadata": {},
   "outputs": [
    {
     "data": {
      "text/plain": [
       "animals            1897\n",
       "science            1796\n",
       "healthy eating     1717\n",
       "food               1699\n",
       "technology         1698\n",
       "culture            1676\n",
       "cooking            1664\n",
       "travel             1647\n",
       "soccer             1457\n",
       "education          1433\n",
       "fitness            1395\n",
       "studying           1363\n",
       "dogs               1338\n",
       "tennis             1328\n",
       "veganism           1248\n",
       "public speaking    1217\n",
       "Name: Category, dtype: int64"
      ]
     },
     "execution_count": 28,
     "metadata": {},
     "output_type": "execute_result"
    }
   ],
   "source": [
    "content_reaction_merged.Category.value_counts()"
   ]
  },
  {
   "cell_type": "code",
   "execution_count": 29,
   "id": "96b658f3",
   "metadata": {},
   "outputs": [
    {
     "name": "stdout",
     "output_type": "stream",
     "text": [
      "<class 'pandas.core.frame.DataFrame'>\n",
      "Int64Index: 24573 entries, 0 to 24572\n",
      "Data columns (total 7 columns):\n",
      " #   Column         Non-Null Count  Dtype \n",
      "---  ------         --------------  ----- \n",
      " 0   Content ID     24573 non-null  object\n",
      " 1   content_type   24573 non-null  object\n",
      " 2   Category       24573 non-null  object\n",
      " 3   reaction_type  24573 non-null  object\n",
      " 4   Datetime       24573 non-null  object\n",
      " 5   Sentiment      24573 non-null  object\n",
      " 6   Score          24573 non-null  int64 \n",
      "dtypes: int64(1), object(6)\n",
      "memory usage: 1.5+ MB\n"
     ]
    }
   ],
   "source": [
    "content_reaction_merged.info()"
   ]
  },
  {
   "cell_type": "code",
   "execution_count": 30,
   "id": "82411368",
   "metadata": {},
   "outputs": [
    {
     "data": {
      "text/plain": [
       "positive    13807\n",
       "negative     7695\n",
       "neutral      3071\n",
       "Name: Sentiment, dtype: int64"
      ]
     },
     "execution_count": 30,
     "metadata": {},
     "output_type": "execute_result"
    }
   ],
   "source": [
    "content_reaction_merged.Sentiment.value_counts()"
   ]
  },
  {
   "cell_type": "code",
   "execution_count": 31,
   "id": "588527e0",
   "metadata": {},
   "outputs": [
    {
     "data": {
      "text/plain": [
       "70    3040\n",
       "60    1622\n",
       "15    1572\n",
       "35    1559\n",
       "5     1552\n",
       "30    1549\n",
       "10    1548\n",
       "72    1548\n",
       "65    1534\n",
       "0     1526\n",
       "50    1520\n",
       "75    1519\n",
       "20    1512\n",
       "12    1497\n",
       "45    1475\n",
       "Name: Score, dtype: int64"
      ]
     },
     "execution_count": 31,
     "metadata": {},
     "output_type": "execute_result"
    }
   ],
   "source": [
    "content_reaction_merged.Score.value_counts()"
   ]
  },
  {
   "cell_type": "code",
   "execution_count": 32,
   "id": "dcb9c7e8",
   "metadata": {},
   "outputs": [],
   "source": [
    "content_reaction_merged.to_csv('Cleaned Dataset.csv', index=False)"
   ]
  },
  {
   "cell_type": "code",
   "execution_count": 34,
   "id": "4f2d3791",
   "metadata": {},
   "outputs": [],
   "source": [
    "content_reaction_merged.to_excel('Cleaned Dataset.xlsx', index=False)"
   ]
  },
  {
   "cell_type": "code",
   "execution_count": null,
   "id": "4b416bee",
   "metadata": {},
   "outputs": [],
   "source": []
  }
 ],
 "metadata": {
  "kernelspec": {
   "display_name": "Python 3 (ipykernel)",
   "language": "python",
   "name": "python3"
  },
  "language_info": {
   "codemirror_mode": {
    "name": "ipython",
    "version": 3
   },
   "file_extension": ".py",
   "mimetype": "text/x-python",
   "name": "python",
   "nbconvert_exporter": "python",
   "pygments_lexer": "ipython3",
   "version": "3.9.13"
  }
 },
 "nbformat": 4,
 "nbformat_minor": 5
}
